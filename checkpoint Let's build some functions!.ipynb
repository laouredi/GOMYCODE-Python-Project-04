{
 "cells": [
  {
   "cell_type": "code",
   "execution_count": 1,
   "id": "a8c2e560",
   "metadata": {},
   "outputs": [
    {
     "name": "stdout",
     "output_type": "stream",
     "text": [
      "35\n"
     ]
    }
   ],
   "source": [
    "def find_max(a, b, c):\n",
    "    \n",
    "    return max(a, b, c)\n",
    "\n",
    "print(find_max(20, 35, 19))"
   ]
  },
  {
   "cell_type": "code",
   "execution_count": 2,
   "id": "076040f1",
   "metadata": {},
   "outputs": [
    {
     "name": "stdout",
     "output_type": "stream",
     "text": [
      "(50, 30)\n"
     ]
    }
   ],
   "source": [
    "def calculation(a, b):\n",
    "    addition = a + b\n",
    "    subtraction = a - b\n",
    "    return addition, subtraction\n",
    "\n",
    "print(calculation(40, 10))"
   ]
  },
  {
   "cell_type": "code",
   "execution_count": 3,
   "id": "dea4faff",
   "metadata": {},
   "outputs": [
    {
     "name": "stdout",
     "output_type": "stream",
     "text": [
      "(9, 48)\n"
     ]
    }
   ],
   "source": [
    "def sum_list(lst):\n",
    "    return sum(lst)\n",
    "\n",
    "def product_list(lst):\n",
    "    product = 1\n",
    "    for num in lst:\n",
    "        product *= num\n",
    "    return product\n",
    "\n",
    "def sum_and_product(lst):\n",
    "    even_numbers = [lst[i] for i in range(0, len(lst), 2)]\n",
    "    odd_numbers = [lst[i] for i in range(1, len(lst), 2)]\n",
    "    even_sum = sum_list(even_numbers)\n",
    "    odd_product = product_list(odd_numbers)\n",
    "    return even_sum, odd_product\n",
    "\n",
    "test = [1, 2, 3, 4, 5, 6]\n",
    "print(sum_and_product(test))"
   ]
  },
  {
   "cell_type": "code",
   "execution_count": 4,
   "id": "0f73b8b3",
   "metadata": {},
   "outputs": [
    {
     "name": "stdout",
     "output_type": "stream",
     "text": [
      "{'a': 'A', 'b': 'B', 'c': 'C'}\n"
     ]
    }
   ],
   "source": [
    "def first_letter_uppercase(dictionary):\n",
    "    result = {}\n",
    "    for key, value in dictionary.items():\n",
    "        result[key] = value[0].upper()\n",
    "    return result\n",
    "\n",
    "dictionary = {'a': 'adnan', 'b': 'bilal', 'c': 'coca'}\n",
    "fluc = first_letter_uppercase(dictionary)\n",
    "print(fluc)"
   ]
  },
  {
   "cell_type": "code",
   "execution_count": 5,
   "id": "121c579d",
   "metadata": {},
   "outputs": [
    {
     "name": "stdout",
     "output_type": "stream",
     "text": [
      "banana\n"
     ]
    }
   ],
   "source": [
    "def largest_word(dictionary):\n",
    "    largest_word = \"\"\n",
    "    for key, value in dictionary.items():\n",
    "        if len(value) > len(largest_word):\n",
    "            largest_word = value\n",
    "    return largest_word\n",
    "\n",
    "dictionary = {'a': 'apple', 'b': 'banana', 'c': 'cherry'}\n",
    "lw = largest_word(dictionary)\n",
    "print(lw)"
   ]
  },
  {
   "cell_type": "code",
   "execution_count": 6,
   "id": "d65edac1",
   "metadata": {},
   "outputs": [
    {
     "name": "stdout",
     "output_type": "stream",
     "text": [
      "black-green-red-white-yellow\n"
     ]
    }
   ],
   "source": [
    "def sort_words(sequence):\n",
    "    words = sequence.split(\"-\")\n",
    "    words.sort()\n",
    "    sorted_sequence = \"-\".join(words)\n",
    "    return sorted_sequence\n",
    "\n",
    "sequence = \"green-red-yellow-black-white\"\n",
    "result = sort_words(sequence)\n",
    "print(result)"
   ]
  },
  {
   "cell_type": "code",
   "execution_count": 16,
   "id": "544c31ab",
   "metadata": {},
   "outputs": [
    {
     "name": "stdout",
     "output_type": "stream",
     "text": [
      "2,18,12\n"
     ]
    }
   ],
   "source": [
    "import math\n",
    "\n",
    "def calculate_value(sequence):\n",
    "    C = 50\n",
    "    H = 30\n",
    "    values = sequence.split(\",\")\n",
    "    result = []\n",
    "    for value in values:\n",
    "        D = int(value)\n",
    "        Q = round(math.sqrt((2 * C * D) / H))\n",
    "        result.append(str(Q))\n",
    "    return \",\".join(result)\n",
    "\n",
    "sequence = \"1,100,40\"\n",
    "result = calculate_value(sequence)\n",
    "print(result)\n",
    "\n"
   ]
  },
  {
   "cell_type": "code",
   "execution_count": null,
   "id": "d258705d",
   "metadata": {},
   "outputs": [],
   "source": []
  }
 ],
 "metadata": {
  "kernelspec": {
   "display_name": "Python 3 (ipykernel)",
   "language": "python",
   "name": "python3"
  },
  "language_info": {
   "codemirror_mode": {
    "name": "ipython",
    "version": 3
   },
   "file_extension": ".py",
   "mimetype": "text/x-python",
   "name": "python",
   "nbconvert_exporter": "python",
   "pygments_lexer": "ipython3",
   "version": "3.9.13"
  }
 },
 "nbformat": 4,
 "nbformat_minor": 5
}
